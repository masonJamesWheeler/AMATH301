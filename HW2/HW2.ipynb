{
 "cells": [
  {
   "cell_type": "markdown",
   "metadata": {
    "collapsed": false
   },
   "source": [
    "### Exercise 1. (Component Skill 2.1)\n",
    "\n",
    "Consider the following Matlab code:\n",
    "\n",
    "```python\n",
    "x = [0, -1, 2, -3, 4, -5]\n",
    "m = length(x)\n",
    "SUM = 0\n",
    "for j in range(m):\n",
    "    SUM += abs(x[j])\n",
    "```\n",
    "\n",
    "a. Explain in a sentence or two what is being coded in lines 1-2.\n",
    "\n",
    "Line 1 initializes a list x with 6 integer values.\n",
    "Line 2 calculates the length of the list x and assigns it to the variable m.\n",
    "\n",
    "b. Explain in a sentence or two what is being coded in lines 3-6.\n",
    "\n",
    "Line 3 initializes a variable SUM with the value 0.\n",
    "The for loop in lines 4-6 iterates through the values of j from 1 to m (inclusive).\n",
    "In each iteration, the absolute value of the j-th element of the list x is added to the variable SUM.\n",
    "\n",
    "c. What is the value of SUM after the code has finished running?\n",
    "\n",
    "The value of SUM after the code has finished running is 15.\n",
    "\n",
    "d. Modify this code to calculate the product of the absolute values of the entries of x instead of the sum.\n",
    "\n",
    " ```python\n",
    "x = [0, -1, 2, -3, 4, -5];\n",
    "m = length(x);\n",
    "PRODUCT = 1;\n",
    "for j = 1:1:m\n",
    "    PRODUCT = PRODUCT * abs(x(j));\n",
    "end\n",
    " ```"
   ]
  },
  {
   "cell_type": "markdown",
   "metadata": {
    "collapsed": false
   },
   "source": [
    "### Exercise 2. (Component Skill 2.2)\n",
    " A previous AMATH 301 student by the name of Smar T. Pants created the following code:\n",
    "\n",
    "x = -0.5\n",
    "if x < -1:   # Smar used <= instead of <\n",
    "    f = x + 1\n",
    "elif x < 0:  # The condition was missing the lower bound x >= -1\n",
    "    f = x ** 2 - 1\n",
    "elif x < 1:\n",
    "    f = x - 2\n",
    "else:\n",
    "    f = x ** 2 + 1\n",
    "\n",
    "The mistakes were on lines 2 and 4, and they are corrected by replacing <= with < in the first condition\n",
    "and adding x >= -1 as the lower bound for the second condition.\n",
    "\n",
    "Assuming the mistakes are corrected, the value of f after the code has finished running is f = x ** 2 - 1."
   ]
  },
  {
   "cell_type": "markdown",
   "metadata": {
    "collapsed": false
   },
   "source": [
    "### Exercise 3. (Component Skill 2.3)\n",
    "Consider the following Matlab code:\n",
    "\n",
    "```python\n",
    "\n",
    "A = [1 1/2; 0 1];\n",
    "j = 0;\n",
    "B = A;\n",
    "while B(1,2) < 3\n",
    "    B = B * A;\n",
    "    j = j + 1;\n",
    "end\n",
    "```\n",
    "a.\n",
    "\n",
    "Before the while loop, the value of B is the same as A, which is [1 1/2; 0 1]. The value of j is 0.\n",
    "\n",
    "b.\n",
    "\n",
    "After one pass through the while loop, the value of B is [1.5 1; 0 1] and the value of j is 1.\n",
    "\n",
    "c.\n",
    "\n",
    "After two passes through the while loop, the value of B is [2.25 1.5; 0 1] and the value of j is 2.\n",
    "\n",
    "d.\n",
    "\n",
    "The while loop will terminate after the third pass through the loop because B(1,2) will be equal to 3.\n",
    "\n",
    "e.\n",
    "\n",
    "After the while loop terminates, the value of B is [3 2; 0 1] and the value of j is 3."
   ]
  }
 ],
 "metadata": {
  "kernelspec": {
   "display_name": "Python 3",
   "language": "python",
   "name": "python3"
  },
  "language_info": {
   "codemirror_mode": {
    "name": "ipython",
    "version": 2
   },
   "file_extension": ".py",
   "mimetype": "text/x-python",
   "name": "python",
   "nbconvert_exporter": "python",
   "pygments_lexer": "ipython2",
   "version": "2.7.6"
  }
 },
 "nbformat": 4,
 "nbformat_minor": 0
}
